{
 "cells": [
  {
   "cell_type": "code",
   "execution_count": null,
   "metadata": {},
   "outputs": [],
   "source": [
    "#install.packages('randomForest', repos='http://cran.us.r-project.org')"
   ]
  },
  {
   "cell_type": "code",
   "execution_count": 1,
   "metadata": {},
   "outputs": [
    {
     "name": "stderr",
     "output_type": "stream",
     "text": [
      "Installing package into ‘/usr/local/lib/R/site-library’\n",
      "(as ‘lib’ is unspecified)\n",
      "Warning message in install.packages(\"e1071\"):\n",
      "“'lib = \"/usr/local/lib/R/site-library\"' is not writable”"
     ]
    },
    {
     "ename": "ERROR",
     "evalue": "Error in install.packages(\"e1071\"): unable to install packages\n",
     "output_type": "error",
     "traceback": [
      "Error in install.packages(\"e1071\"): unable to install packages\nTraceback:\n",
      "1. install.packages(\"e1071\")",
      "2. stop(\"unable to install packages\")"
     ]
    }
   ],
   "source": [
    "#Installing the required packages\n",
    "install.packages(\"e1071\")\n",
    "install.packages(\"plyr\")\n",
    "install.packages(\"dplyr\")\n",
    "install.packages(\"caret\")"
   ]
  },
  {
   "cell_type": "code",
   "execution_count": 2,
   "metadata": {},
   "outputs": [
    {
     "name": "stderr",
     "output_type": "stream",
     "text": [
      "\n",
      "Attaching package: ‘dplyr’\n",
      "\n",
      "The following objects are masked from ‘package:plyr’:\n",
      "\n",
      "    arrange, count, desc, failwith, id, mutate, rename, summarise,\n",
      "    summarize\n",
      "\n",
      "The following objects are masked from ‘package:stats’:\n",
      "\n",
      "    filter, lag\n",
      "\n",
      "The following objects are masked from ‘package:base’:\n",
      "\n",
      "    intersect, setdiff, setequal, union\n",
      "\n",
      "Loading required package: lattice\n",
      "Loading required package: ggplot2\n"
     ]
    }
   ],
   "source": [
    "#using the required libraries\n",
    "library(\"e1071\")\n",
    "library(\"plyr\")\n",
    "library(\"dplyr\")\n",
    "library(\"caret\")"
   ]
  },
  {
   "cell_type": "code",
   "execution_count": 50,
   "metadata": {},
   "outputs": [],
   "source": [
    "#Reading the csv file which has train features and their sparse representation\n",
    "myData = read.csv(\"train_tokens.csv\", header = TRUE, sep = \",\")\n"
   ]
  },
  {
   "cell_type": "code",
   "execution_count": 72,
   "metadata": {},
   "outputs": [
    {
     "data": {
      "text/html": [
       "<ol class=list-inline>\n",
       "\t<li>106445</li>\n",
       "\t<li>1376</li>\n",
       "</ol>\n"
      ],
      "text/latex": [
       "\\begin{enumerate*}\n",
       "\\item 106445\n",
       "\\item 1376\n",
       "\\end{enumerate*}\n"
      ],
      "text/markdown": [
       "1. 106445\n",
       "2. 1376\n",
       "\n",
       "\n"
      ],
      "text/plain": [
       "[1] 106445   1376"
      ]
     },
     "metadata": {},
     "output_type": "display_data"
    },
    {
     "data": {
      "text/html": [
       "<table>\n",
       "<thead><tr><th scope=col>aap</th><th scope=col>abc</th><th scope=col>abc_new</th><th scope=col>abil</th><th scope=col>aborigin</th><th scope=col>absolut</th><th scope=col>abus</th><th scope=col>accept</th><th scope=col>access</th><th scope=col>accid</th><th scope=col>⋯</th><th scope=col>wound</th><th scope=col>write</th><th scope=col>written</th><th scope=col>wrong</th><th scope=col>year</th><th scope=col>years_ago</th><th scope=col>yesterday</th><th scope=col>young</th><th scope=col>zone</th><th scope=col>class_id</th></tr></thead>\n",
       "<tbody>\n",
       "\t<tr><td>0         </td><td>0         </td><td>0         </td><td>0         </td><td>0         </td><td>0         </td><td>0         </td><td>0         </td><td>0         </td><td>0.0000000 </td><td>⋯         </td><td>0         </td><td>0         </td><td>0         </td><td>0         </td><td>0.00000000</td><td>0         </td><td>0.0000000 </td><td>0.2189977 </td><td>0         </td><td>C1        </td></tr>\n",
       "\t<tr><td>0         </td><td>0         </td><td>0         </td><td>0         </td><td>0         </td><td>0         </td><td>0         </td><td>0         </td><td>0         </td><td>0.0000000 </td><td>⋯         </td><td>0         </td><td>0         </td><td>0         </td><td>0         </td><td>0.06284803</td><td>0         </td><td>0.0000000 </td><td>0.0000000 </td><td>0         </td><td>C1        </td></tr>\n",
       "\t<tr><td>0         </td><td>0         </td><td>0         </td><td>0         </td><td>0         </td><td>0         </td><td>0         </td><td>0         </td><td>0         </td><td>0.0000000 </td><td>⋯         </td><td>0         </td><td>0         </td><td>0         </td><td>0         </td><td>0.10471202</td><td>0         </td><td>0.0000000 </td><td>0.0000000 </td><td>0         </td><td>C1        </td></tr>\n",
       "\t<tr><td>0         </td><td>0         </td><td>0         </td><td>0         </td><td>0         </td><td>0         </td><td>0         </td><td>0         </td><td>0         </td><td>0.2805345 </td><td>⋯         </td><td>0         </td><td>0         </td><td>0         </td><td>0         </td><td>0.00000000</td><td>0         </td><td>0.1142048 </td><td>0.0000000 </td><td>0         </td><td>C1        </td></tr>\n",
       "\t<tr><td>0         </td><td>0         </td><td>0         </td><td>0         </td><td>0         </td><td>0         </td><td>0         </td><td>0         </td><td>0         </td><td>0.0000000 </td><td>⋯         </td><td>0         </td><td>0         </td><td>0         </td><td>0         </td><td>0.00000000</td><td>0         </td><td>0.0000000 </td><td>0.0000000 </td><td>0         </td><td>C1        </td></tr>\n",
       "\t<tr><td>0         </td><td>0         </td><td>0         </td><td>0         </td><td>0         </td><td>0         </td><td>0         </td><td>0         </td><td>0         </td><td>0.0000000 </td><td>⋯         </td><td>0         </td><td>0         </td><td>0         </td><td>0         </td><td>0.00000000</td><td>0         </td><td>0.0000000 </td><td>0.0000000 </td><td>0         </td><td>C1        </td></tr>\n",
       "</tbody>\n",
       "</table>\n"
      ],
      "text/latex": [
       "\\begin{tabular}{r|llllllllllllllllllllllllllllllllllllllllllllllllllllllllllllllllllllllllllllllllllllllllllllllllllllllllllllllllllllllllllllllllllllllllllllllllllllllllllllllllllllllllllllllllllllllllllllllllllllllllllllllllllllllllllllllllllllllllllllllllllllllllllllllllllllllllllllllllllllllllllllllllllllllllllllllllllllllllllllllllllllllllllllllllllllllllllllllllllllllllllllllllllllllllllllllllllllllllllllllllllllllllllllllllllllllllllllllllllllllllllllllllllllllllllllllllllllllllllllllllllllllllllllllllllllllllllllllllllllllllllllllllllllllllllllllllllllllllllllllllllllllllllllllllllllllllllllllllllllllllllllllllllllllllllllllllllllllllllllllllllllllllllllllllllllllllllllllllllllllllllllllllllllllllllllllllllllllllllllllllllllllllllllllllllllllllllllllllllllllllllllllllllllllllllllllllllllllllllllllllllllllllllllllllllllllllllllllllllllllllllllllllllllllllllllllllllllllllllllllllllllllllllllllllllllllllllllllllllllllllllllllllllllllllllllllllllllllllllllllllllllllllllllllllllllllllllllllllllllllllllllllllllllllllllllllllllllllllllllllllllllllllllllllllllllllllllllllllllllllllllllllllllllllllllllllllllllllllllllllllllllllllllllllllllllllllllllllllllllllllllllllllllllllllllllllllllllllllllllllllllllllllllllllllllllllllllllllllllllllllllllllllllllllllllllllllllllllllllllllllllllllllllllllllllllllllllllllllllllllllllllllllllllllllllllllllllllllllllllllllllllllllllllllll}\n",
       " aap & abc & abc\\_new & abil & aborigin & absolut & abus & accept & access & accid & ⋯ & wound & write & written & wrong & year & years\\_ago & yesterday & young & zone & class\\_id\\\\\n",
       "\\hline\n",
       "\t 0          & 0          & 0          & 0          & 0          & 0          & 0          & 0          & 0          & 0.0000000  & ⋯          & 0          & 0          & 0          & 0          & 0.00000000 & 0          & 0.0000000  & 0.2189977  & 0          & C1        \\\\\n",
       "\t 0          & 0          & 0          & 0          & 0          & 0          & 0          & 0          & 0          & 0.0000000  & ⋯          & 0          & 0          & 0          & 0          & 0.06284803 & 0          & 0.0000000  & 0.0000000  & 0          & C1        \\\\\n",
       "\t 0          & 0          & 0          & 0          & 0          & 0          & 0          & 0          & 0          & 0.0000000  & ⋯          & 0          & 0          & 0          & 0          & 0.10471202 & 0          & 0.0000000  & 0.0000000  & 0          & C1        \\\\\n",
       "\t 0          & 0          & 0          & 0          & 0          & 0          & 0          & 0          & 0          & 0.2805345  & ⋯          & 0          & 0          & 0          & 0          & 0.00000000 & 0          & 0.1142048  & 0.0000000  & 0          & C1        \\\\\n",
       "\t 0          & 0          & 0          & 0          & 0          & 0          & 0          & 0          & 0          & 0.0000000  & ⋯          & 0          & 0          & 0          & 0          & 0.00000000 & 0          & 0.0000000  & 0.0000000  & 0          & C1        \\\\\n",
       "\t 0          & 0          & 0          & 0          & 0          & 0          & 0          & 0          & 0          & 0.0000000  & ⋯          & 0          & 0          & 0          & 0          & 0.00000000 & 0          & 0.0000000  & 0.0000000  & 0          & C1        \\\\\n",
       "\\end{tabular}\n"
      ],
      "text/markdown": [
       "\n",
       "aap | abc | abc_new | abil | aborigin | absolut | abus | accept | access | accid | ⋯ | wound | write | written | wrong | year | years_ago | yesterday | young | zone | class_id | \n",
       "|---|---|---|---|---|---|\n",
       "| 0          | 0          | 0          | 0          | 0          | 0          | 0          | 0          | 0          | 0.0000000  | ⋯          | 0          | 0          | 0          | 0          | 0.00000000 | 0          | 0.0000000  | 0.2189977  | 0          | C1         | \n",
       "| 0          | 0          | 0          | 0          | 0          | 0          | 0          | 0          | 0          | 0.0000000  | ⋯          | 0          | 0          | 0          | 0          | 0.06284803 | 0          | 0.0000000  | 0.0000000  | 0          | C1         | \n",
       "| 0          | 0          | 0          | 0          | 0          | 0          | 0          | 0          | 0          | 0.0000000  | ⋯          | 0          | 0          | 0          | 0          | 0.10471202 | 0          | 0.0000000  | 0.0000000  | 0          | C1         | \n",
       "| 0          | 0          | 0          | 0          | 0          | 0          | 0          | 0          | 0          | 0.2805345  | ⋯          | 0          | 0          | 0          | 0          | 0.00000000 | 0          | 0.1142048  | 0.0000000  | 0          | C1         | \n",
       "| 0          | 0          | 0          | 0          | 0          | 0          | 0          | 0          | 0          | 0.0000000  | ⋯          | 0          | 0          | 0          | 0          | 0.00000000 | 0          | 0.0000000  | 0.0000000  | 0          | C1         | \n",
       "| 0          | 0          | 0          | 0          | 0          | 0          | 0          | 0          | 0          | 0.0000000  | ⋯          | 0          | 0          | 0          | 0          | 0.00000000 | 0          | 0.0000000  | 0.0000000  | 0          | C1         | \n",
       "\n",
       "\n"
      ],
      "text/plain": [
       "  aap abc abc_new abil aborigin absolut abus accept access accid     ⋯ wound\n",
       "1 0   0   0       0    0        0       0    0      0      0.0000000 ⋯ 0    \n",
       "2 0   0   0       0    0        0       0    0      0      0.0000000 ⋯ 0    \n",
       "3 0   0   0       0    0        0       0    0      0      0.0000000 ⋯ 0    \n",
       "4 0   0   0       0    0        0       0    0      0      0.2805345 ⋯ 0    \n",
       "5 0   0   0       0    0        0       0    0      0      0.0000000 ⋯ 0    \n",
       "6 0   0   0       0    0        0       0    0      0      0.0000000 ⋯ 0    \n",
       "  write written wrong year       years_ago yesterday young     zone class_id\n",
       "1 0     0       0     0.00000000 0         0.0000000 0.2189977 0    C1      \n",
       "2 0     0       0     0.06284803 0         0.0000000 0.0000000 0    C1      \n",
       "3 0     0       0     0.10471202 0         0.0000000 0.0000000 0    C1      \n",
       "4 0     0       0     0.00000000 0         0.1142048 0.0000000 0    C1      \n",
       "5 0     0       0     0.00000000 0         0.0000000 0.0000000 0    C1      \n",
       "6 0     0       0     0.00000000 0         0.0000000 0.0000000 0    C1      "
      ]
     },
     "metadata": {},
     "output_type": "display_data"
    }
   ],
   "source": [
    "dim(myData)\n",
    "\n",
    "head(myData)\n"
   ]
  },
  {
   "cell_type": "code",
   "execution_count": 52,
   "metadata": {},
   "outputs": [],
   "source": [
    "myData$X <- NULL"
   ]
  },
  {
   "cell_type": "code",
   "execution_count": 53,
   "metadata": {},
   "outputs": [
    {
     "data": {
      "text/html": [
       "<table>\n",
       "<thead><tr><th scope=col>aap</th><th scope=col>abc</th><th scope=col>abc_new</th><th scope=col>abil</th><th scope=col>aborigin</th><th scope=col>absolut</th><th scope=col>abus</th><th scope=col>accept</th><th scope=col>access</th><th scope=col>accid</th><th scope=col>⋯</th><th scope=col>wound</th><th scope=col>write</th><th scope=col>written</th><th scope=col>wrong</th><th scope=col>year</th><th scope=col>years_ago</th><th scope=col>yesterday</th><th scope=col>young</th><th scope=col>zone</th><th scope=col>class_id</th></tr></thead>\n",
       "<tbody>\n",
       "\t<tr><td>0         </td><td>0         </td><td>0         </td><td>0         </td><td>0         </td><td>0         </td><td>0         </td><td>0         </td><td>0         </td><td>0.0000000 </td><td>⋯         </td><td>0         </td><td>0         </td><td>0         </td><td>0         </td><td>0.00000000</td><td>0         </td><td>0.0000000 </td><td>0.2189977 </td><td>0         </td><td>C1        </td></tr>\n",
       "\t<tr><td>0         </td><td>0         </td><td>0         </td><td>0         </td><td>0         </td><td>0         </td><td>0         </td><td>0         </td><td>0         </td><td>0.0000000 </td><td>⋯         </td><td>0         </td><td>0         </td><td>0         </td><td>0         </td><td>0.06284803</td><td>0         </td><td>0.0000000 </td><td>0.0000000 </td><td>0         </td><td>C1        </td></tr>\n",
       "\t<tr><td>0         </td><td>0         </td><td>0         </td><td>0         </td><td>0         </td><td>0         </td><td>0         </td><td>0         </td><td>0         </td><td>0.0000000 </td><td>⋯         </td><td>0         </td><td>0         </td><td>0         </td><td>0         </td><td>0.10471202</td><td>0         </td><td>0.0000000 </td><td>0.0000000 </td><td>0         </td><td>C1        </td></tr>\n",
       "\t<tr><td>0         </td><td>0         </td><td>0         </td><td>0         </td><td>0         </td><td>0         </td><td>0         </td><td>0         </td><td>0         </td><td>0.2805345 </td><td>⋯         </td><td>0         </td><td>0         </td><td>0         </td><td>0         </td><td>0.00000000</td><td>0         </td><td>0.1142048 </td><td>0.0000000 </td><td>0         </td><td>C1        </td></tr>\n",
       "\t<tr><td>0         </td><td>0         </td><td>0         </td><td>0         </td><td>0         </td><td>0         </td><td>0         </td><td>0         </td><td>0         </td><td>0.0000000 </td><td>⋯         </td><td>0         </td><td>0         </td><td>0         </td><td>0         </td><td>0.00000000</td><td>0         </td><td>0.0000000 </td><td>0.0000000 </td><td>0         </td><td>C1        </td></tr>\n",
       "\t<tr><td>0         </td><td>0         </td><td>0         </td><td>0         </td><td>0         </td><td>0         </td><td>0         </td><td>0         </td><td>0         </td><td>0.0000000 </td><td>⋯         </td><td>0         </td><td>0         </td><td>0         </td><td>0         </td><td>0.00000000</td><td>0         </td><td>0.0000000 </td><td>0.0000000 </td><td>0         </td><td>C1        </td></tr>\n",
       "</tbody>\n",
       "</table>\n"
      ],
      "text/latex": [
       "\\begin{tabular}{r|llllllllllllllllllllllllllllllllllllllllllllllllllllllllllllllllllllllllllllllllllllllllllllllllllllllllllllllllllllllllllllllllllllllllllllllllllllllllllllllllllllllllllllllllllllllllllllllllllllllllllllllllllllllllllllllllllllllllllllllllllllllllllllllllllllllllllllllllllllllllllllllllllllllllllllllllllllllllllllllllllllllllllllllllllllllllllllllllllllllllllllllllllllllllllllllllllllllllllllllllllllllllllllllllllllllllllllllllllllllllllllllllllllllllllllllllllllllllllllllllllllllllllllllllllllllllllllllllllllllllllllllllllllllllllllllllllllllllllllllllllllllllllllllllllllllllllllllllllllllllllllllllllllllllllllllllllllllllllllllllllllllllllllllllllllllllllllllllllllllllllllllllllllllllllllllllllllllllllllllllllllllllllllllllllllllllllllllllllllllllllllllllllllllllllllllllllllllllllllllllllllllllllllllllllllllllllllllllllllllllllllllllllllllllllllllllllllllllllllllllllllllllllllllllllllllllllllllllllllllllllllllllllllllllllllllllllllllllllllllllllllllllllllllllllllllllllllllllllllllllllllllllllllllllllllllllllllllllllllllllllllllllllllllllllllllllllllllllllllllllllllllllllllllllllllllllllllllllllllllllllllllllllllllllllllllllllllllllllllllllllllllllllllllllllllllllllllllllllllllllllllllllllllllllllllllllllllllllllllllllllllllllllllllllllllllllllllllllllllllllllllllllllllllllllllllllllllllllllllllllllllllllllllllllllllllllllllllllllllllllllllllllllllllll}\n",
       " aap & abc & abc\\_new & abil & aborigin & absolut & abus & accept & access & accid & ⋯ & wound & write & written & wrong & year & years\\_ago & yesterday & young & zone & class\\_id\\\\\n",
       "\\hline\n",
       "\t 0          & 0          & 0          & 0          & 0          & 0          & 0          & 0          & 0          & 0.0000000  & ⋯          & 0          & 0          & 0          & 0          & 0.00000000 & 0          & 0.0000000  & 0.2189977  & 0          & C1        \\\\\n",
       "\t 0          & 0          & 0          & 0          & 0          & 0          & 0          & 0          & 0          & 0.0000000  & ⋯          & 0          & 0          & 0          & 0          & 0.06284803 & 0          & 0.0000000  & 0.0000000  & 0          & C1        \\\\\n",
       "\t 0          & 0          & 0          & 0          & 0          & 0          & 0          & 0          & 0          & 0.0000000  & ⋯          & 0          & 0          & 0          & 0          & 0.10471202 & 0          & 0.0000000  & 0.0000000  & 0          & C1        \\\\\n",
       "\t 0          & 0          & 0          & 0          & 0          & 0          & 0          & 0          & 0          & 0.2805345  & ⋯          & 0          & 0          & 0          & 0          & 0.00000000 & 0          & 0.1142048  & 0.0000000  & 0          & C1        \\\\\n",
       "\t 0          & 0          & 0          & 0          & 0          & 0          & 0          & 0          & 0          & 0.0000000  & ⋯          & 0          & 0          & 0          & 0          & 0.00000000 & 0          & 0.0000000  & 0.0000000  & 0          & C1        \\\\\n",
       "\t 0          & 0          & 0          & 0          & 0          & 0          & 0          & 0          & 0          & 0.0000000  & ⋯          & 0          & 0          & 0          & 0          & 0.00000000 & 0          & 0.0000000  & 0.0000000  & 0          & C1        \\\\\n",
       "\\end{tabular}\n"
      ],
      "text/markdown": [
       "\n",
       "aap | abc | abc_new | abil | aborigin | absolut | abus | accept | access | accid | ⋯ | wound | write | written | wrong | year | years_ago | yesterday | young | zone | class_id | \n",
       "|---|---|---|---|---|---|\n",
       "| 0          | 0          | 0          | 0          | 0          | 0          | 0          | 0          | 0          | 0.0000000  | ⋯          | 0          | 0          | 0          | 0          | 0.00000000 | 0          | 0.0000000  | 0.2189977  | 0          | C1         | \n",
       "| 0          | 0          | 0          | 0          | 0          | 0          | 0          | 0          | 0          | 0.0000000  | ⋯          | 0          | 0          | 0          | 0          | 0.06284803 | 0          | 0.0000000  | 0.0000000  | 0          | C1         | \n",
       "| 0          | 0          | 0          | 0          | 0          | 0          | 0          | 0          | 0          | 0.0000000  | ⋯          | 0          | 0          | 0          | 0          | 0.10471202 | 0          | 0.0000000  | 0.0000000  | 0          | C1         | \n",
       "| 0          | 0          | 0          | 0          | 0          | 0          | 0          | 0          | 0          | 0.2805345  | ⋯          | 0          | 0          | 0          | 0          | 0.00000000 | 0          | 0.1142048  | 0.0000000  | 0          | C1         | \n",
       "| 0          | 0          | 0          | 0          | 0          | 0          | 0          | 0          | 0          | 0.0000000  | ⋯          | 0          | 0          | 0          | 0          | 0.00000000 | 0          | 0.0000000  | 0.0000000  | 0          | C1         | \n",
       "| 0          | 0          | 0          | 0          | 0          | 0          | 0          | 0          | 0          | 0.0000000  | ⋯          | 0          | 0          | 0          | 0          | 0.00000000 | 0          | 0.0000000  | 0.0000000  | 0          | C1         | \n",
       "\n",
       "\n"
      ],
      "text/plain": [
       "  aap abc abc_new abil aborigin absolut abus accept access accid     ⋯ wound\n",
       "1 0   0   0       0    0        0       0    0      0      0.0000000 ⋯ 0    \n",
       "2 0   0   0       0    0        0       0    0      0      0.0000000 ⋯ 0    \n",
       "3 0   0   0       0    0        0       0    0      0      0.0000000 ⋯ 0    \n",
       "4 0   0   0       0    0        0       0    0      0      0.2805345 ⋯ 0    \n",
       "5 0   0   0       0    0        0       0    0      0      0.0000000 ⋯ 0    \n",
       "6 0   0   0       0    0        0       0    0      0      0.0000000 ⋯ 0    \n",
       "  write written wrong year       years_ago yesterday young     zone class_id\n",
       "1 0     0       0     0.00000000 0         0.0000000 0.2189977 0    C1      \n",
       "2 0     0       0     0.06284803 0         0.0000000 0.0000000 0    C1      \n",
       "3 0     0       0     0.10471202 0         0.0000000 0.0000000 0    C1      \n",
       "4 0     0       0     0.00000000 0         0.1142048 0.0000000 0    C1      \n",
       "5 0     0       0     0.00000000 0         0.0000000 0.0000000 0    C1      \n",
       "6 0     0       0     0.00000000 0         0.0000000 0.0000000 0    C1      "
      ]
     },
     "metadata": {},
     "output_type": "display_data"
    }
   ],
   "source": [
    "head(myData)"
   ]
  },
  {
   "cell_type": "code",
   "execution_count": 73,
   "metadata": {},
   "outputs": [],
   "source": [
    "#filter the train data based on each class id\n",
    "c1 <- filter(myData, class_id == \"C1\")\n",
    "c2 <- filter(myData, class_id == \"C2\")\n",
    "c3 <- filter(myData, class_id == \"C3\")\n",
    "c4 <- filter(myData, class_id == \"C4\")\n",
    "c5 <- filter(myData, class_id == \"C5\")\n",
    "c6 <- filter(myData, class_id == \"C6\")\n",
    "c7 <- filter(myData, class_id == \"C7\")\n",
    "c8 <- filter(myData, class_id == \"C8\")\n",
    "c9 <- filter(myData, class_id == \"C9\")\n",
    "c10 <- filter(myData, class_id == \"C10\")\n",
    "c11 <- filter(myData, class_id == \"C11\")\n",
    "c12 <- filter(myData, class_id == \"C12\")\n",
    "c13 <- filter(myData, class_id == \"C13\")\n",
    "c14 <- filter(myData, class_id == \"C14\")\n",
    "c15 <- filter(myData, class_id == \"C15\")\n",
    "c16 <- filter(myData, class_id == \"C16\")\n",
    "c17 <- filter(myData, class_id == \"C17\")\n",
    "c18 <- filter(myData, class_id == \"C18\")\n",
    "c19 <- filter(myData, class_id == \"C19\")\n",
    "c20 <- filter(myData, class_id == \"C20\")\n",
    "c21 <- filter(myData, class_id == \"C21\")\n",
    "c22 <- filter(myData, class_id == \"C22\")\n",
    "c23 <- filter(myData, class_id == \"C23\")"
   ]
  },
  {
   "cell_type": "code",
   "execution_count": 74,
   "metadata": {},
   "outputs": [],
   "source": [
    "#Taking 5% from each class to fit our model in R as the kernel will crash if we run the model on the entire train data set\n",
    "\n",
    "perc = 0.05\n",
    "samp_c1 <- c1[sample(nrow(c1),(nrow(c1)*perc)),]\n",
    "samp_c2 <- c2[sample(nrow(c2),nrow(c2)*perc),]\n",
    "samp_c3 <- c3[sample(nrow(c3),nrow(c3)*perc),]\n",
    "samp_c4 <- c4[sample(nrow(c4),nrow(c4)*perc),]\n",
    "samp_c5 <- c5[sample(nrow(c5),nrow(c5)*perc),]\n",
    "samp_c6 <- c6[sample(nrow(c6),nrow(c6)*perc),]\n",
    "samp_c7 <- c7[sample(nrow(c7),nrow(c7)*perc),]\n",
    "samp_c8 <- c8[sample(nrow(c8),nrow(c8)*perc),]\n",
    "samp_c9 <- c9[sample(nrow(c9),nrow(c9)*perc),]\n",
    "samp_c10 <- c10[sample(nrow(c10),nrow(c10)*perc),]\n",
    "samp_c11 <- c11[sample(nrow(c11),nrow(c11)*perc),]\n",
    "samp_c12 <- c12[sample(nrow(c12),nrow(c12)*perc),]\n",
    "samp_c13 <- c13[sample(nrow(c13),nrow(c13)*perc),]\n",
    "samp_c14 <- c14[sample(nrow(c14),nrow(c14)*perc),]\n",
    "samp_c15 <- c15[sample(nrow(c15),nrow(c15)*perc),]\n",
    "samp_c16 <- c16[sample(nrow(c16),nrow(c16)*perc),]\n",
    "samp_c17 <- c17[sample(nrow(c17), nrow(c17)*perc),]\n",
    "samp_c18 <- c18[sample(nrow(c18), nrow(c18)*perc),]\n",
    "samp_c19 <- c19[sample(nrow(c19), nrow(c19)*perc),]\n",
    "samp_c20 <- c20[sample(nrow(c20),nrow(c20)*perc),]\n",
    "samp_c21 <- c21[sample(nrow(c21), nrow(c21)*perc),]\n",
    "samp_c22 <- c22[sample(nrow(c22), nrow(c22)*perc),]\n",
    "samp_c23 <- c23[sample(nrow(c23), nrow(c23)*perc),]\n"
   ]
  },
  {
   "cell_type": "code",
   "execution_count": 75,
   "metadata": {},
   "outputs": [],
   "source": [
    "# Merging all the 5% records from all the classes\n",
    "merged_df <- rbind.fill(samp_c1,samp_c2,samp_c3,samp_c4,samp_c5,samp_c6,samp_c7,samp_c8,samp_c9,samp_c10,samp_c11,samp_c12,\n",
    "                        samp_c13,samp_c14,samp_c15,samp_c16,samp_c17,samp_c18,samp_c19,samp_c20,samp_c21,samp_c22,samp_c23)\n",
    "\n",
    "#dim(merged_df)\n",
    "#tail(merged_df)\n"
   ]
  },
  {
   "cell_type": "code",
   "execution_count": 76,
   "metadata": {},
   "outputs": [
    {
     "data": {
      "text/html": [
       "<table>\n",
       "<thead><tr><th scope=col>aap</th><th scope=col>abc</th><th scope=col>abc_new</th><th scope=col>abil</th><th scope=col>aborigin</th><th scope=col>absolut</th><th scope=col>abus</th><th scope=col>accept</th><th scope=col>access</th><th scope=col>accid</th><th scope=col>⋯</th><th scope=col>wound</th><th scope=col>write</th><th scope=col>written</th><th scope=col>wrong</th><th scope=col>year</th><th scope=col>years_ago</th><th scope=col>yesterday</th><th scope=col>young</th><th scope=col>zone</th><th scope=col>class_id</th></tr></thead>\n",
       "<tbody>\n",
       "\t<tr><td>0         </td><td>0         </td><td>0         </td><td>0         </td><td>0         </td><td>0.0000000 </td><td>0         </td><td>0         </td><td>0.0000000 </td><td>0         </td><td>⋯         </td><td>0         </td><td>0         </td><td>0.0000000 </td><td>0         </td><td>0.19161013</td><td>0         </td><td>0.18327541</td><td>0         </td><td>0         </td><td>C1        </td></tr>\n",
       "\t<tr><td>0         </td><td>0         </td><td>0         </td><td>0         </td><td>0         </td><td>0.0000000 </td><td>0         </td><td>0         </td><td>0.0000000 </td><td>0         </td><td>⋯         </td><td>0         </td><td>0         </td><td>0.0000000 </td><td>0         </td><td>0.06974718</td><td>0         </td><td>0.00000000</td><td>0         </td><td>0         </td><td>C1        </td></tr>\n",
       "\t<tr><td>0         </td><td>0         </td><td>0         </td><td>0         </td><td>0         </td><td>0.1177625 </td><td>0         </td><td>0         </td><td>0.0000000 </td><td>0         </td><td>⋯         </td><td>0         </td><td>0         </td><td>0.0000000 </td><td>0         </td><td>0.00000000</td><td>0         </td><td>0.08583637</td><td>0         </td><td>0         </td><td>C1        </td></tr>\n",
       "\t<tr><td>0         </td><td>0         </td><td>0         </td><td>0         </td><td>0         </td><td>0.0000000 </td><td>0         </td><td>0         </td><td>0.1290531 </td><td>0         </td><td>⋯         </td><td>0         </td><td>0         </td><td>0.1547832 </td><td>0         </td><td>0.05329563</td><td>0         </td><td>0.00000000</td><td>0         </td><td>0         </td><td>C1        </td></tr>\n",
       "\t<tr><td>0         </td><td>0         </td><td>0         </td><td>0         </td><td>0         </td><td>0.0000000 </td><td>0         </td><td>0         </td><td>0.0000000 </td><td>0         </td><td>⋯         </td><td>0         </td><td>0         </td><td>0.0000000 </td><td>0         </td><td>0.19853782</td><td>0         </td><td>0.00000000</td><td>0         </td><td>0         </td><td>C1        </td></tr>\n",
       "\t<tr><td>0         </td><td>0         </td><td>0         </td><td>0         </td><td>0         </td><td>0.0000000 </td><td>0         </td><td>0         </td><td>0.0000000 </td><td>0         </td><td>⋯         </td><td>0         </td><td>0         </td><td>0.0000000 </td><td>0         </td><td>0.00000000</td><td>0         </td><td>0.00000000</td><td>0         </td><td>0         </td><td>C1        </td></tr>\n",
       "</tbody>\n",
       "</table>\n"
      ],
      "text/latex": [
       "\\begin{tabular}{r|llllllllllllllllllllllllllllllllllllllllllllllllllllllllllllllllllllllllllllllllllllllllllllllllllllllllllllllllllllllllllllllllllllllllllllllllllllllllllllllllllllllllllllllllllllllllllllllllllllllllllllllllllllllllllllllllllllllllllllllllllllllllllllllllllllllllllllllllllllllllllllllllllllllllllllllllllllllllllllllllllllllllllllllllllllllllllllllllllllllllllllllllllllllllllllllllllllllllllllllllllllllllllllllllllllllllllllllllllllllllllllllllllllllllllllllllllllllllllllllllllllllllllllllllllllllllllllllllllllllllllllllllllllllllllllllllllllllllllllllllllllllllllllllllllllllllllllllllllllllllllllllllllllllllllllllllllllllllllllllllllllllllllllllllllllllllllllllllllllllllllllllllllllllllllllllllllllllllllllllllllllllllllllllllllllllllllllllllllllllllllllllllllllllllllllllllllllllllllllllllllllllllllllllllllllllllllllllllllllllllllllllllllllllllllllllllllllllllllllllllllllllllllllllllllllllllllllllllllllllllllllllllllllllllllllllllllllllllllllllllllllllllllllllllllllllllllllllllllllllllllllllllllllllllllllllllllllllllllllllllllllllllllllllllllllllllllllllllllllllllllllllllllllllllllllllllllllllllllllllllllllllllllllllllllllllllllllllllllllllllllllllllllllllllllllllllllllllllllllllllllllllllllllllllllllllllllllllllllllllllllllllllllllllllllllllllllllllllllllllllllllllllllllllllllllllllllllllllllllllllllllllllllllllllllllllllllllllllllllllllllllllllllllllll}\n",
       " aap & abc & abc\\_new & abil & aborigin & absolut & abus & accept & access & accid & ⋯ & wound & write & written & wrong & year & years\\_ago & yesterday & young & zone & class\\_id\\\\\n",
       "\\hline\n",
       "\t 0          & 0          & 0          & 0          & 0          & 0.0000000  & 0          & 0          & 0.0000000  & 0          & ⋯          & 0          & 0          & 0.0000000  & 0          & 0.19161013 & 0          & 0.18327541 & 0          & 0          & C1        \\\\\n",
       "\t 0          & 0          & 0          & 0          & 0          & 0.0000000  & 0          & 0          & 0.0000000  & 0          & ⋯          & 0          & 0          & 0.0000000  & 0          & 0.06974718 & 0          & 0.00000000 & 0          & 0          & C1        \\\\\n",
       "\t 0          & 0          & 0          & 0          & 0          & 0.1177625  & 0          & 0          & 0.0000000  & 0          & ⋯          & 0          & 0          & 0.0000000  & 0          & 0.00000000 & 0          & 0.08583637 & 0          & 0          & C1        \\\\\n",
       "\t 0          & 0          & 0          & 0          & 0          & 0.0000000  & 0          & 0          & 0.1290531  & 0          & ⋯          & 0          & 0          & 0.1547832  & 0          & 0.05329563 & 0          & 0.00000000 & 0          & 0          & C1        \\\\\n",
       "\t 0          & 0          & 0          & 0          & 0          & 0.0000000  & 0          & 0          & 0.0000000  & 0          & ⋯          & 0          & 0          & 0.0000000  & 0          & 0.19853782 & 0          & 0.00000000 & 0          & 0          & C1        \\\\\n",
       "\t 0          & 0          & 0          & 0          & 0          & 0.0000000  & 0          & 0          & 0.0000000  & 0          & ⋯          & 0          & 0          & 0.0000000  & 0          & 0.00000000 & 0          & 0.00000000 & 0          & 0          & C1        \\\\\n",
       "\\end{tabular}\n"
      ],
      "text/markdown": [
       "\n",
       "aap | abc | abc_new | abil | aborigin | absolut | abus | accept | access | accid | ⋯ | wound | write | written | wrong | year | years_ago | yesterday | young | zone | class_id | \n",
       "|---|---|---|---|---|---|\n",
       "| 0          | 0          | 0          | 0          | 0          | 0.0000000  | 0          | 0          | 0.0000000  | 0          | ⋯          | 0          | 0          | 0.0000000  | 0          | 0.19161013 | 0          | 0.18327541 | 0          | 0          | C1         | \n",
       "| 0          | 0          | 0          | 0          | 0          | 0.0000000  | 0          | 0          | 0.0000000  | 0          | ⋯          | 0          | 0          | 0.0000000  | 0          | 0.06974718 | 0          | 0.00000000 | 0          | 0          | C1         | \n",
       "| 0          | 0          | 0          | 0          | 0          | 0.1177625  | 0          | 0          | 0.0000000  | 0          | ⋯          | 0          | 0          | 0.0000000  | 0          | 0.00000000 | 0          | 0.08583637 | 0          | 0          | C1         | \n",
       "| 0          | 0          | 0          | 0          | 0          | 0.0000000  | 0          | 0          | 0.1290531  | 0          | ⋯          | 0          | 0          | 0.1547832  | 0          | 0.05329563 | 0          | 0.00000000 | 0          | 0          | C1         | \n",
       "| 0          | 0          | 0          | 0          | 0          | 0.0000000  | 0          | 0          | 0.0000000  | 0          | ⋯          | 0          | 0          | 0.0000000  | 0          | 0.19853782 | 0          | 0.00000000 | 0          | 0          | C1         | \n",
       "| 0          | 0          | 0          | 0          | 0          | 0.0000000  | 0          | 0          | 0.0000000  | 0          | ⋯          | 0          | 0          | 0.0000000  | 0          | 0.00000000 | 0          | 0.00000000 | 0          | 0          | C1         | \n",
       "\n",
       "\n"
      ],
      "text/plain": [
       "  aap abc abc_new abil aborigin absolut   abus accept access    accid ⋯ wound\n",
       "1 0   0   0       0    0        0.0000000 0    0      0.0000000 0     ⋯ 0    \n",
       "2 0   0   0       0    0        0.0000000 0    0      0.0000000 0     ⋯ 0    \n",
       "3 0   0   0       0    0        0.1177625 0    0      0.0000000 0     ⋯ 0    \n",
       "4 0   0   0       0    0        0.0000000 0    0      0.1290531 0     ⋯ 0    \n",
       "5 0   0   0       0    0        0.0000000 0    0      0.0000000 0     ⋯ 0    \n",
       "6 0   0   0       0    0        0.0000000 0    0      0.0000000 0     ⋯ 0    \n",
       "  write written   wrong year       years_ago yesterday  young zone class_id\n",
       "1 0     0.0000000 0     0.19161013 0         0.18327541 0     0    C1      \n",
       "2 0     0.0000000 0     0.06974718 0         0.00000000 0     0    C1      \n",
       "3 0     0.0000000 0     0.00000000 0         0.08583637 0     0    C1      \n",
       "4 0     0.1547832 0     0.05329563 0         0.00000000 0     0    C1      \n",
       "5 0     0.0000000 0     0.19853782 0         0.00000000 0     0    C1      \n",
       "6 0     0.0000000 0     0.00000000 0         0.00000000 0     0    C1      "
      ]
     },
     "metadata": {},
     "output_type": "display_data"
    }
   ],
   "source": [
    "head(merged_df)"
   ]
  },
  {
   "cell_type": "code",
   "execution_count": 58,
   "metadata": {},
   "outputs": [],
   "source": [
    "#row.names(merged_df) <- NULL"
   ]
  },
  {
   "cell_type": "code",
   "execution_count": 77,
   "metadata": {},
   "outputs": [],
   "source": [
    "# Shuffling the merged data\n",
    "shuffledata <- merged_df[sample(nrow(merged_df)),]\n",
    "#row.names(shuffledata)\n",
    "#dim(shuffledata)"
   ]
  },
  {
   "cell_type": "code",
   "execution_count": 78,
   "metadata": {},
   "outputs": [
    {
     "data": {
      "text/html": [
       "<table>\n",
       "<thead><tr><th></th><th scope=col>aap</th><th scope=col>abc</th><th scope=col>abc_new</th><th scope=col>abil</th><th scope=col>aborigin</th><th scope=col>absolut</th><th scope=col>abus</th><th scope=col>accept</th><th scope=col>access</th><th scope=col>accid</th><th scope=col>⋯</th><th scope=col>wound</th><th scope=col>write</th><th scope=col>written</th><th scope=col>wrong</th><th scope=col>year</th><th scope=col>years_ago</th><th scope=col>yesterday</th><th scope=col>young</th><th scope=col>zone</th><th scope=col>class_id</th></tr></thead>\n",
       "<tbody>\n",
       "\t<tr><th scope=row>905</th><td>0         </td><td>0         </td><td>0.00000000</td><td>0         </td><td>0         </td><td>0         </td><td>0         </td><td>0         </td><td>0.07942682</td><td>0.07706868</td><td>⋯         </td><td>0         </td><td>0         </td><td>0         </td><td>0         </td><td>0.03280125</td><td>0         </td><td>0.0000000 </td><td>0         </td><td>0         </td><td>C4        </td></tr>\n",
       "\t<tr><th scope=row>5057</th><td>0         </td><td>0         </td><td>0.00000000</td><td>0         </td><td>0         </td><td>0         </td><td>0         </td><td>0         </td><td>0.00000000</td><td>0.00000000</td><td>⋯         </td><td>0         </td><td>0         </td><td>0         </td><td>0         </td><td>0.04541016</td><td>0         </td><td>0.0000000 </td><td>0         </td><td>0         </td><td>C22       </td></tr>\n",
       "\t<tr><th scope=row>5075</th><td>0         </td><td>0         </td><td>0.06967415</td><td>0         </td><td>0         </td><td>0         </td><td>0         </td><td>0         </td><td>0.00000000</td><td>0.00000000</td><td>⋯         </td><td>0         </td><td>0         </td><td>0         </td><td>0         </td><td>0.05471369</td><td>0         </td><td>0.0000000 </td><td>0         </td><td>0         </td><td>C22       </td></tr>\n",
       "\t<tr><th scope=row>2733</th><td>0         </td><td>0         </td><td>0.00000000</td><td>0         </td><td>0         </td><td>0         </td><td>0         </td><td>0         </td><td>0.00000000</td><td>0.00000000</td><td>⋯         </td><td>0         </td><td>0         </td><td>0         </td><td>0         </td><td>0.08134010</td><td>0         </td><td>0.0000000 </td><td>0         </td><td>0         </td><td>C12       </td></tr>\n",
       "\t<tr><th scope=row>3090</th><td>0         </td><td>0         </td><td>0.00000000</td><td>0         </td><td>0         </td><td>0         </td><td>0         </td><td>0         </td><td>0.00000000</td><td>0.00000000</td><td>⋯         </td><td>0         </td><td>0         </td><td>0         </td><td>0         </td><td>0.00000000</td><td>0         </td><td>0.1015194 </td><td>0         </td><td>0         </td><td>C14       </td></tr>\n",
       "\t<tr><th scope=row>3500</th><td>0         </td><td>0         </td><td>0.00000000</td><td>0         </td><td>0         </td><td>0         </td><td>0         </td><td>0         </td><td>0.00000000</td><td>0.00000000</td><td>⋯         </td><td>0         </td><td>0         </td><td>0         </td><td>0         </td><td>0.05590120</td><td>0         </td><td>0.0000000 </td><td>0         </td><td>0         </td><td>C15       </td></tr>\n",
       "</tbody>\n",
       "</table>\n"
      ],
      "text/latex": [
       "\\begin{tabular}{r|llllllllllllllllllllllllllllllllllllllllllllllllllllllllllllllllllllllllllllllllllllllllllllllllllllllllllllllllllllllllllllllllllllllllllllllllllllllllllllllllllllllllllllllllllllllllllllllllllllllllllllllllllllllllllllllllllllllllllllllllllllllllllllllllllllllllllllllllllllllllllllllllllllllllllllllllllllllllllllllllllllllllllllllllllllllllllllllllllllllllllllllllllllllllllllllllllllllllllllllllllllllllllllllllllllllllllllllllllllllllllllllllllllllllllllllllllllllllllllllllllllllllllllllllllllllllllllllllllllllllllllllllllllllllllllllllllllllllllllllllllllllllllllllllllllllllllllllllllllllllllllllllllllllllllllllllllllllllllllllllllllllllllllllllllllllllllllllllllllllllllllllllllllllllllllllllllllllllllllllllllllllllllllllllllllllllllllllllllllllllllllllllllllllllllllllllllllllllllllllllllllllllllllllllllllllllllllllllllllllllllllllllllllllllllllllllllllllllllllllllllllllllllllllllllllllllllllllllllllllllllllllllllllllllllllllllllllllllllllllllllllllllllllllllllllllllllllllllllllllllllllllllllllllllllllllllllllllllllllllllllllllllllllllllllllllllllllllllllllllllllllllllllllllllllllllllllllllllllllllllllllllllllllllllllllllllllllllllllllllllllllllllllllllllllllllllllllllllllllllllllllllllllllllllllllllllllllllllllllllllllllllllllllllllllllllllllllllllllllllllllllllllllllllllllllllllllllllllllllllllllllllllllllllllllllllllllllllllllllllllllllllllllllllll}\n",
       "  & aap & abc & abc\\_new & abil & aborigin & absolut & abus & accept & access & accid & ⋯ & wound & write & written & wrong & year & years\\_ago & yesterday & young & zone & class\\_id\\\\\n",
       "\\hline\n",
       "\t905 & 0          & 0          & 0.00000000 & 0          & 0          & 0          & 0          & 0          & 0.07942682 & 0.07706868 & ⋯          & 0          & 0          & 0          & 0          & 0.03280125 & 0          & 0.0000000  & 0          & 0          & C4        \\\\\n",
       "\t5057 & 0          & 0          & 0.00000000 & 0          & 0          & 0          & 0          & 0          & 0.00000000 & 0.00000000 & ⋯          & 0          & 0          & 0          & 0          & 0.04541016 & 0          & 0.0000000  & 0          & 0          & C22       \\\\\n",
       "\t5075 & 0          & 0          & 0.06967415 & 0          & 0          & 0          & 0          & 0          & 0.00000000 & 0.00000000 & ⋯          & 0          & 0          & 0          & 0          & 0.05471369 & 0          & 0.0000000  & 0          & 0          & C22       \\\\\n",
       "\t2733 & 0          & 0          & 0.00000000 & 0          & 0          & 0          & 0          & 0          & 0.00000000 & 0.00000000 & ⋯          & 0          & 0          & 0          & 0          & 0.08134010 & 0          & 0.0000000  & 0          & 0          & C12       \\\\\n",
       "\t3090 & 0          & 0          & 0.00000000 & 0          & 0          & 0          & 0          & 0          & 0.00000000 & 0.00000000 & ⋯          & 0          & 0          & 0          & 0          & 0.00000000 & 0          & 0.1015194  & 0          & 0          & C14       \\\\\n",
       "\t3500 & 0          & 0          & 0.00000000 & 0          & 0          & 0          & 0          & 0          & 0.00000000 & 0.00000000 & ⋯          & 0          & 0          & 0          & 0          & 0.05590120 & 0          & 0.0000000  & 0          & 0          & C15       \\\\\n",
       "\\end{tabular}\n"
      ],
      "text/markdown": [
       "\n",
       "| <!--/--> | aap | abc | abc_new | abil | aborigin | absolut | abus | accept | access | accid | ⋯ | wound | write | written | wrong | year | years_ago | yesterday | young | zone | class_id | \n",
       "|---|---|---|---|---|---|\n",
       "| 905 | 0          | 0          | 0.00000000 | 0          | 0          | 0          | 0          | 0          | 0.07942682 | 0.07706868 | ⋯          | 0          | 0          | 0          | 0          | 0.03280125 | 0          | 0.0000000  | 0          | 0          | C4         | \n",
       "| 5057 | 0          | 0          | 0.00000000 | 0          | 0          | 0          | 0          | 0          | 0.00000000 | 0.00000000 | ⋯          | 0          | 0          | 0          | 0          | 0.04541016 | 0          | 0.0000000  | 0          | 0          | C22        | \n",
       "| 5075 | 0          | 0          | 0.06967415 | 0          | 0          | 0          | 0          | 0          | 0.00000000 | 0.00000000 | ⋯          | 0          | 0          | 0          | 0          | 0.05471369 | 0          | 0.0000000  | 0          | 0          | C22        | \n",
       "| 2733 | 0          | 0          | 0.00000000 | 0          | 0          | 0          | 0          | 0          | 0.00000000 | 0.00000000 | ⋯          | 0          | 0          | 0          | 0          | 0.08134010 | 0          | 0.0000000  | 0          | 0          | C12        | \n",
       "| 3090 | 0          | 0          | 0.00000000 | 0          | 0          | 0          | 0          | 0          | 0.00000000 | 0.00000000 | ⋯          | 0          | 0          | 0          | 0          | 0.00000000 | 0          | 0.1015194  | 0          | 0          | C14        | \n",
       "| 3500 | 0          | 0          | 0.00000000 | 0          | 0          | 0          | 0          | 0          | 0.00000000 | 0.00000000 | ⋯          | 0          | 0          | 0          | 0          | 0.05590120 | 0          | 0.0000000  | 0          | 0          | C15        | \n",
       "\n",
       "\n"
      ],
      "text/plain": [
       "     aap abc abc_new    abil aborigin absolut abus accept access     accid     \n",
       "905  0   0   0.00000000 0    0        0       0    0      0.07942682 0.07706868\n",
       "5057 0   0   0.00000000 0    0        0       0    0      0.00000000 0.00000000\n",
       "5075 0   0   0.06967415 0    0        0       0    0      0.00000000 0.00000000\n",
       "2733 0   0   0.00000000 0    0        0       0    0      0.00000000 0.00000000\n",
       "3090 0   0   0.00000000 0    0        0       0    0      0.00000000 0.00000000\n",
       "3500 0   0   0.00000000 0    0        0       0    0      0.00000000 0.00000000\n",
       "     ⋯ wound write written wrong year       years_ago yesterday young zone\n",
       "905  ⋯ 0     0     0       0     0.03280125 0         0.0000000 0     0   \n",
       "5057 ⋯ 0     0     0       0     0.04541016 0         0.0000000 0     0   \n",
       "5075 ⋯ 0     0     0       0     0.05471369 0         0.0000000 0     0   \n",
       "2733 ⋯ 0     0     0       0     0.08134010 0         0.0000000 0     0   \n",
       "3090 ⋯ 0     0     0       0     0.00000000 0         0.1015194 0     0   \n",
       "3500 ⋯ 0     0     0       0     0.05590120 0         0.0000000 0     0   \n",
       "     class_id\n",
       "905  C4      \n",
       "5057 C22     \n",
       "5075 C22     \n",
       "2733 C12     \n",
       "3090 C14     \n",
       "3500 C15     "
      ]
     },
     "metadata": {},
     "output_type": "display_data"
    }
   ],
   "source": [
    "head(shuffledata)"
   ]
  },
  {
   "cell_type": "code",
   "execution_count": null,
   "metadata": {},
   "outputs": [],
   "source": [
    "\n",
    "\n"
   ]
  },
  {
   "cell_type": "code",
   "execution_count": 79,
   "metadata": {},
   "outputs": [],
   "source": [
    "# Same as above\n",
    "\n",
    "perc = 0.05\n",
    "samp_c1 <- c1[sample(nrow(c1),(nrow(c1)*perc)),]\n",
    "samp_c2 <- c2[sample(nrow(c2),nrow(c2)*perc),]\n",
    "samp_c3 <- c3[sample(nrow(c3),nrow(c3)*perc),]\n",
    "samp_c4 <- c4[sample(nrow(c4),nrow(c4)*perc),]\n",
    "samp_c5 <- c5[sample(nrow(c5),nrow(c5)*perc),]\n",
    "samp_c6 <- c6[sample(nrow(c6),nrow(c6)*perc),]\n",
    "samp_c7 <- c7[sample(nrow(c7),nrow(c7)*perc),]\n",
    "samp_c8 <- c8[sample(nrow(c8),nrow(c8)*perc),]\n",
    "samp_c9 <- c9[sample(nrow(c9),nrow(c9)*perc),]\n",
    "samp_c10 <- c10[sample(nrow(c10),nrow(c10)*perc),]\n",
    "samp_c11 <- c11[sample(nrow(c11),nrow(c11)*perc),]\n",
    "samp_c12 <- c12[sample(nrow(c12),nrow(c12)*perc),]\n",
    "samp_c13 <- c13[sample(nrow(c13),nrow(c13)*perc),]\n",
    "samp_c14 <- c14[sample(nrow(c14),nrow(c14)*perc),]\n",
    "samp_c15 <- c15[sample(nrow(c15),nrow(c15)*perc),]\n",
    "samp_c16 <- c16[sample(nrow(c16),nrow(c16)*perc),]\n",
    "samp_c17 <- c17[sample(nrow(c17), nrow(c17)*perc),]\n",
    "samp_c18 <- c18[sample(nrow(c18), nrow(c18)*perc),]\n",
    "samp_c19 <- c19[sample(nrow(c19), nrow(c19)*perc),]\n",
    "samp_c20 <- c20[sample(nrow(c20),nrow(c20)*perc),]\n",
    "samp_c21 <- c21[sample(nrow(c21), nrow(c21)*perc),]\n",
    "samp_c22 <- c22[sample(nrow(c22), nrow(c22)*perc),]\n",
    "samp_c23 <- c23[sample(nrow(c23), nrow(c23)*perc),]\n",
    "#subset(b, !(y %in% a$x))\n",
    "\n"
   ]
  },
  {
   "cell_type": "code",
   "execution_count": 80,
   "metadata": {},
   "outputs": [],
   "source": [
    "#merging to make test set\n",
    "merged_df_1 <- rbind.fill(samp_c1,samp_c2,samp_c3,samp_c4,samp_c5,samp_c6,samp_c7,samp_c8,samp_c9,samp_c10,samp_c11,samp_c12,\n",
    "                        samp_c13,samp_c14,samp_c15,samp_c16,samp_c17,samp_c18,samp_c19,samp_c20,samp_c21,samp_c22,samp_c23)\n"
   ]
  },
  {
   "cell_type": "code",
   "execution_count": 81,
   "metadata": {},
   "outputs": [],
   "source": [
    "\n",
    "#Shuffling the data\n",
    "shuffledata_1 <- merged_df_1[sample(nrow(merged_df_1)),]\n",
    "\n"
   ]
  },
  {
   "cell_type": "code",
   "execution_count": 82,
   "metadata": {},
   "outputs": [],
   "source": [
    "ind1 <- row.names(shuffledata)\n",
    "ind2 <- row.names(shuffledata_1)"
   ]
  },
  {
   "cell_type": "code",
   "execution_count": 83,
   "metadata": {},
   "outputs": [
    {
     "name": "stdout",
     "output_type": "stream",
     "text": [
      "character(0)\n"
     ]
    }
   ],
   "source": [
    "print(setdiff(ind2, ind1))"
   ]
  },
  {
   "cell_type": "code",
   "execution_count": 84,
   "metadata": {},
   "outputs": [],
   "source": [
    "#shuffledata$ClassLabel"
   ]
  },
  {
   "cell_type": "code",
   "execution_count": 85,
   "metadata": {},
   "outputs": [],
   "source": [
    "# Factorizing the class id column\n",
    "\n",
    "shuffledata['class_id'] <- as.factor(shuffledata$class_id)\n",
    "shuffledata_1['class_id'] <- as.factor(shuffledata_1$class_id)\n"
   ]
  },
  {
   "cell_type": "code",
   "execution_count": 86,
   "metadata": {},
   "outputs": [],
   "source": [
    "#Fitting the svm linear model on the sample train data\n",
    "svm.linear <- svm(class_id ~ ., shuffledata, kernel = \"linear\", cost = 1)\n"
   ]
  },
  {
   "cell_type": "code",
   "execution_count": 87,
   "metadata": {},
   "outputs": [],
   "source": [
    "# Predicting class labels for sample test data\n",
    "predictedY <- predict(svm.linear, shuffledata_1)\n"
   ]
  },
  {
   "cell_type": "code",
   "execution_count": null,
   "metadata": {},
   "outputs": [],
   "source": []
  },
  {
   "cell_type": "code",
   "execution_count": 88,
   "metadata": {},
   "outputs": [],
   "source": [
    "# making a table out of predicted values and actua class lavels\n",
    "\n",
    "\n",
    "\n",
    "t <- table(predictedY, shuffledata_1$class_id)\n",
    "\n",
    "\n"
   ]
  },
  {
   "cell_type": "code",
   "execution_count": 89,
   "metadata": {},
   "outputs": [
    {
     "data": {
      "text/plain": [
       "Confusion Matrix and Statistics\n",
       "\n",
       "          \n",
       "predictedY  C1 C10 C11 C12 C13 C14 C15 C16 C17 C18 C19  C2 C20 C21 C22 C23  C3\n",
       "       C1  117   8   1   0   9   2   3   5   0   8   8   6   4   3  13   6   0\n",
       "       C10   6 143   7   3   9   1   1  18   3  10   1  14   1   8  38   4  15\n",
       "       C11   1   0 216   1   0   0   0   0   0   0   0   0   0   8   2   5   0\n",
       "       C12   0   0   0 265   0   0   0   1   0   0   0   0   0   0   0   0   0\n",
       "       C13  16   2   0   0 155   2   0   8   0   0   1  14   0   0   1   5   0\n",
       "       C14   0   0   0   0   1 137   2   3   6   2   7  10  16   1   4   1  15\n",
       "       C15   2   0   0   0   0   1 234   0   5   1   0   2   1   0   2   2   2\n",
       "       C16   2   5   1   1   6   0   2 113   0   1   0   4   2   0   1   2   6\n",
       "       C17   0   0   0   1   0   2   1   0 170   1   1   0   1   0   1   2   0\n",
       "       C18   3   2   1   0   0   1   0   1   0  91   1   2   1   0  19   5   3\n",
       "       C19   7   0   0   0   0  10   1   1   1   1 194   0   0   0   0   1   1\n",
       "       C2    3   4   1   0   7  16   1  10   4   3   0  70   5   3   1   8   9\n",
       "       C20   3   2   3   0   0   7   0   1   6   1   0   5 126   1   0   3  41\n",
       "       C21   1   1  10   0   0   0   0   1   0   0   0   0   2 224   1   3   0\n",
       "       C22   6  34   1   1   2   2   5   9   3  30   4   3   1   4  70   7   7\n",
       "       C23   0   2   0   2   3   0   0   4   0   1   1   4   0   0   6 134   1\n",
       "       C3    4   7   2   0   3  11   5   8   2   6   1  18  55   1   5   7  70\n",
       "       C4   19  19   1   1   5  17   4  10   5  12   2  34  14   1  29   1  10\n",
       "       C5    1   0   0   0   0   0   0   0   0   0   0   0   0   2   3   0   0\n",
       "       C6   11   2   0   0   0   4   7   1  17   8  14   1   0   0   4   7   4\n",
       "       C7    8   3   0   1   1   1   0   0   2   8   1   9   1   0   6   5   4\n",
       "       C8    0   2   0   0   1   5   0   2   0   0   0  24   1   0   1   0   3\n",
       "       C9    6   4   0   0   2   5   2   4   9  24   0  12   9   0  11   6  13\n",
       "          \n",
       "predictedY  C4  C5  C6  C7  C8  C9\n",
       "       C1   25   1   6   4   2   3\n",
       "       C10   9   6   4  12   5   7\n",
       "       C11   1   1   0   1   0   0\n",
       "       C12   0   0   0   0   0   0\n",
       "       C13   3   1   3   0   2   0\n",
       "       C14   9   0  10   5   1   3\n",
       "       C15   3   0  13   0   0   3\n",
       "       C16   3   1   0   1   2   4\n",
       "       C17   3   0  10   0   0   7\n",
       "       C18   8   0   2   2   0  25\n",
       "       C19   3   0  16   0   0   0\n",
       "       C2   26   2   3  12  34  12\n",
       "       C20   3   0   3   3   2   7\n",
       "       C21   2   9   0   0   0   0\n",
       "       C22  20   0  14   9   0  11\n",
       "       C23   0   3   3   4   1   0\n",
       "       C3   20   2   7   8   9  23\n",
       "       C4  107   0   9  27   5  12\n",
       "       C5    0 189   0   0   0   0\n",
       "       C6    8   1 103   5   0   4\n",
       "       C7   13   0   0 133   4   1\n",
       "       C8    1   0   0   1 133   3\n",
       "       C9    5   0   6   9  12 135\n",
       "\n",
       "Overall Statistics\n",
       "                                          \n",
       "               Accuracy : 0.6256          \n",
       "                 95% CI : (0.6125, 0.6387)\n",
       "    No Information Rate : 0.0519          \n",
       "    P-Value [Acc > NIR] : < 2.2e-16       \n",
       "                                          \n",
       "                  Kappa : 0.6084          \n",
       " Mcnemar's Test P-Value : NA              \n",
       "\n",
       "Statistics by Class:\n",
       "\n",
       "                     Class: C1 Class: C10 Class: C11 Class: C12 Class: C13\n",
       "Sensitivity            0.54167    0.59583    0.88525    0.96014    0.75980\n",
       "Specificity            0.97708    0.96418    0.99606    0.99980    0.98867\n",
       "Pos Pred Value         0.50000    0.44000    0.91525    0.99624    0.72770\n",
       "Neg Pred Value         0.98054    0.98058    0.99449    0.99782    0.99041\n",
       "Prevalence             0.04059    0.04510    0.04586    0.05187    0.03834\n",
       "Detection Rate         0.02199    0.02687    0.04059    0.04980    0.02913\n",
       "Detection Prevalence   0.04398    0.06108    0.04435    0.04999    0.04003\n",
       "Balanced Accuracy      0.75937    0.78001    0.94065    0.97997    0.87423\n",
       "                     Class: C14 Class: C15 Class: C16 Class: C17 Class: C18\n",
       "Sensitivity             0.61161    0.87313    0.56500    0.72961    0.43750\n",
       "Specificity             0.98117    0.99268    0.99141    0.99410    0.98514\n",
       "Pos Pred Value          0.58798    0.86347    0.71975    0.85000    0.54491\n",
       "Neg Pred Value          0.98290    0.99327    0.98315    0.98770    0.97730\n",
       "Prevalence              0.04210    0.05037    0.03759    0.04379    0.03909\n",
       "Detection Rate          0.02575    0.04398    0.02124    0.03195    0.01710\n",
       "Detection Prevalence    0.04379    0.05093    0.02951    0.03759    0.03139\n",
       "Balanced Accuracy       0.79639    0.93291    0.77820    0.86186    0.71132\n",
       "                     Class: C19 Class: C2 Class: C20 Class: C21 Class: C22\n",
       "Sensitivity             0.82203   0.30172    0.52500    0.87500    0.32110\n",
       "Specificity             0.99174   0.96777    0.98209    0.99408    0.96610\n",
       "Pos Pred Value          0.82203   0.29915    0.58065    0.88189    0.28807\n",
       "Neg Pred Value          0.99174   0.96815    0.97766    0.99368    0.97085\n",
       "Prevalence              0.04435   0.04360    0.04510    0.04811    0.04097\n",
       "Detection Rate          0.03646   0.01316    0.02368    0.04210    0.01316\n",
       "Detection Prevalence    0.04435   0.04398    0.04078    0.04774    0.04567\n",
       "Balanced Accuracy       0.90689   0.63475    0.75355    0.93454    0.64360\n",
       "                     Class: C23 Class: C3 Class: C4 Class: C5 Class: C6\n",
       "Sensitivity             0.62617   0.34314   0.39338   0.87500   0.48585\n",
       "Specificity             0.99315   0.96013   0.95306   0.99882   0.98082\n",
       "Pos Pred Value          0.79290   0.25547   0.31105   0.96923   0.51244\n",
       "Neg Pred Value          0.98447   0.97345   0.96685   0.99473   0.97871\n",
       "Prevalence              0.04022   0.03834   0.05112   0.04059   0.03984\n",
       "Detection Rate          0.02518   0.01316   0.02011   0.03552   0.01936\n",
       "Detection Prevalence    0.03176   0.05149   0.06465   0.03665   0.03777\n",
       "Balanced Accuracy       0.80966   0.65164   0.67322   0.93691   0.73333\n",
       "                     Class: C7 Class: C8 Class: C9\n",
       "Sensitivity            0.56356   0.62736   0.51923\n",
       "Specificity            0.98663   0.99139   0.97254\n",
       "Pos Pred Value         0.66169   0.75141   0.49270\n",
       "Neg Pred Value         0.97988   0.98464   0.97523\n",
       "Prevalence             0.04435   0.03984   0.04886\n",
       "Detection Rate         0.02500   0.02500   0.02537\n",
       "Detection Prevalence   0.03777   0.03326   0.05149\n",
       "Balanced Accuracy      0.77509   0.80937   0.74588"
      ]
     },
     "metadata": {},
     "output_type": "display_data"
    }
   ],
   "source": [
    "#Confusion matrix to find the accuracy we are getting on 5% sample data\n",
    "confusionMatrix(t)"
   ]
  },
  {
   "cell_type": "code",
   "execution_count": null,
   "metadata": {},
   "outputs": [],
   "source": []
  }
 ],
 "metadata": {
  "kernelspec": {
   "display_name": "R",
   "language": "R",
   "name": "ir"
  },
  "language_info": {
   "codemirror_mode": "r",
   "file_extension": ".r",
   "mimetype": "text/x-r-source",
   "name": "R",
   "pygments_lexer": "r",
   "version": "3.4.3"
  }
 },
 "nbformat": 4,
 "nbformat_minor": 2
}
